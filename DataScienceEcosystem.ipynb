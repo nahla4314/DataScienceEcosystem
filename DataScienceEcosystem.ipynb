{
 "cells": [
  {
   "cell_type": "markdown",
   "id": "54d13179-2a0e-4be9-a99e-6e66ed375ad1",
   "metadata": {},
   "source": [
    "# Data Science Tools and Ecosystem"
   ]
  },
  {
   "cell_type": "markdown",
   "id": "b52649a1-cb42-4c1b-b047-51c3a3b69848",
   "metadata": {},
   "source": [
    "In this notebook, Data Science Tools and Ecosystem are summarized."
   ]
  },
  {
   "cell_type": "markdown",
   "id": "748b01f8-c8b5-4751-9c75-8b530eb9e0f8",
   "metadata": {},
   "source": [
    "Some of the popular languages that Data Scientists use are:"
   ]
  },
  {
   "cell_type": "markdown",
   "id": "77bdb9f0-b734-42e0-9bae-3373de3f31ea",
   "metadata": {},
   "source": [
    "1. NumPy\n",
    "2. Pandas\n",
    "3. Matplotlib"
   ]
  },
  {
   "cell_type": "markdown",
   "id": "aee252b0-8089-41ff-b862-684bdaaa7cbc",
   "metadata": {},
   "source": [
    "| Data Science Tools |\n",
    "| ------------------|\n",
    "| NumPy |\n",
    "| Pandas |\n",
    "| Matplotlib |"
   ]
  },
  {
   "cell_type": "markdown",
   "id": "9c0c5256-b81b-4bee-882a-b4ce36ad49a1",
   "metadata": {
    "tags": []
   },
   "source": [
    "### Below are a few examples of evaluating arithmetic expressions in Python"
   ]
  },
  {
   "cell_type": "code",
   "execution_count": 3,
   "id": "f2959244-bef5-41f5-9bbc-e7992931d34a",
   "metadata": {
    "tags": []
   },
   "outputs": [
    {
     "data": {
      "text/plain": [
       "17"
      ]
     },
     "execution_count": 3,
     "metadata": {},
     "output_type": "execute_result"
    }
   ],
   "source": [
    "# This a simple arithmetic expression to mutiply then add integers\n",
    "(3*4)+5"
   ]
  },
  {
   "cell_type": "code",
   "execution_count": 5,
   "id": "3bc5f2a5-2d54-474b-bdab-380aec83ed37",
   "metadata": {
    "tags": []
   },
   "outputs": [
    {
     "data": {
      "text/plain": [
       "3.3333333333333335"
      ]
     },
     "execution_count": 5,
     "metadata": {},
     "output_type": "execute_result"
    }
   ],
   "source": [
    "# This will convert 200 minutes to hours by diving by 60\n",
    "200/60"
   ]
  },
  {
   "cell_type": "markdown",
   "id": "130ebcbb-34a6-4149-8548-0608955b6103",
   "metadata": {
    "tags": []
   },
   "source": [
    "**Objectives:**"
   ]
  },
  {
   "cell_type": "markdown",
   "id": "84e43028-8556-4bb3-8197-3d255bed9eb3",
   "metadata": {},
   "source": [
    "#### List popular languages for Data Science"
   ]
  },
  {
   "cell_type": "markdown",
   "id": "335f7b89-0ebe-4f99-82ea-9a101d068bcd",
   "metadata": {},
   "source": [
    "* Python\n",
    "* R\n",
    "* Scala\n",
    "* Julia\n",
    "* Js"
   ]
  },
  {
   "cell_type": "markdown",
   "id": "3264746c-50b7-4e08-b5c8-b4e0fd35f3a4",
   "metadata": {},
   "source": [
    "## Author"
   ]
  },
  {
   "cell_type": "markdown",
   "id": "f7ee5c02-4b8d-4152-947d-22caa157ab65",
   "metadata": {},
   "source": [
    "Nahla Mohamed\n"
   ]
  },
  {
   "cell_type": "code",
   "execution_count": null,
   "id": "32f84f88-542d-4b73-8797-651d5a7694eb",
   "metadata": {},
   "outputs": [],
   "source": []
  }
 ],
 "metadata": {
  "kernelspec": {
   "display_name": "Python",
   "language": "python",
   "name": "conda-env-python-py"
  },
  "language_info": {
   "codemirror_mode": {
    "name": "ipython",
    "version": 3
   },
   "file_extension": ".py",
   "mimetype": "text/x-python",
   "name": "python",
   "nbconvert_exporter": "python",
   "pygments_lexer": "ipython3",
   "version": "3.7.12"
  }
 },
 "nbformat": 4,
 "nbformat_minor": 5
}
